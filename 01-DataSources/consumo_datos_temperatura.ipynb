{
 "cells": [
  {
   "cell_type": "code",
   "execution_count": 1,
   "metadata": {},
   "outputs": [],
   "source": [
    "__author__ =\"jimmy hdez\"\n",
    "__version__ = \"1.0.2\""
   ]
  },
  {
   "cell_type": "code",
   "execution_count": null,
   "metadata": {},
   "outputs": [],
   "source": []
  },
  {
   "cell_type": "code",
   "execution_count": 7,
   "metadata": {},
   "outputs": [],
   "source": [
    "#importamos las bibliotecas \n",
    "import pandas as pd #pandas para la manipulación de datos,\n",
    "import json #json para el tratamiento de objetos javascripts\n",
    "import numpy as np  # soporte para crear vectores y matrices, tipos, funciones\n"
   ]
  },
  {
   "cell_type": "code",
   "execution_count": 18,
   "metadata": {},
   "outputs": [
    {
     "data": {
      "text/html": [
       "<div>\n",
       "<style scoped>\n",
       "    .dataframe tbody tr th:only-of-type {\n",
       "        vertical-align: middle;\n",
       "    }\n",
       "\n",
       "    .dataframe tbody tr th {\n",
       "        vertical-align: top;\n",
       "    }\n",
       "\n",
       "    .dataframe thead th {\n",
       "        text-align: right;\n",
       "    }\n",
       "</style>\n",
       "<table border=\"1\" class=\"dataframe\">\n",
       "  <thead>\n",
       "    <tr style=\"text-align: right;\">\n",
       "      <th></th>\n",
       "      <th>id</th>\n",
       "      <th>data</th>\n",
       "    </tr>\n",
       "  </thead>\n",
       "  <tbody>\n",
       "    <tr>\n",
       "      <th>0</th>\n",
       "      <td>1</td>\n",
       "      <td>{\"id_dispositivo\":\"dht11-01\",\"microsegundos\":\"...</td>\n",
       "    </tr>\n",
       "    <tr>\n",
       "      <th>1</th>\n",
       "      <td>2</td>\n",
       "      <td>{\"id_dispositivo\":\"dht11-01\",\"microsegundos\":\"...</td>\n",
       "    </tr>\n",
       "    <tr>\n",
       "      <th>2</th>\n",
       "      <td>3</td>\n",
       "      <td>{\"id_dispositivo\":\"dht11-01\",\"microsegundos\":\"...</td>\n",
       "    </tr>\n",
       "    <tr>\n",
       "      <th>3</th>\n",
       "      <td>4</td>\n",
       "      <td>{\"id_dispositivo\":\"dht11-01\",\"microsegundos\":\"...</td>\n",
       "    </tr>\n",
       "    <tr>\n",
       "      <th>4</th>\n",
       "      <td>5</td>\n",
       "      <td>{\"id_dispositivo\":\"dht11-01\",\"microsegundos\":\"...</td>\n",
       "    </tr>\n",
       "  </tbody>\n",
       "</table>\n",
       "</div>"
      ],
      "text/plain": [
       "   id                                               data\n",
       "0   1  {\"id_dispositivo\":\"dht11-01\",\"microsegundos\":\"...\n",
       "1   2  {\"id_dispositivo\":\"dht11-01\",\"microsegundos\":\"...\n",
       "2   3  {\"id_dispositivo\":\"dht11-01\",\"microsegundos\":\"...\n",
       "3   4  {\"id_dispositivo\":\"dht11-01\",\"microsegundos\":\"...\n",
       "4   5  {\"id_dispositivo\":\"dht11-01\",\"microsegundos\":\"..."
      ]
     },
     "execution_count": 18,
     "metadata": {},
     "output_type": "execute_result"
    }
   ],
   "source": [
    "\n",
    "file_path=\"data.csv\"\n",
    "df=pd.read_csv(file_path)\n",
    "df.head()\n"
   ]
  },
  {
   "cell_type": "code",
   "execution_count": 19,
   "metadata": {},
   "outputs": [
    {
     "data": {
      "text/html": [
       "<div>\n",
       "<style scoped>\n",
       "    .dataframe tbody tr th:only-of-type {\n",
       "        vertical-align: middle;\n",
       "    }\n",
       "\n",
       "    .dataframe tbody tr th {\n",
       "        vertical-align: top;\n",
       "    }\n",
       "\n",
       "    .dataframe thead th {\n",
       "        text-align: right;\n",
       "    }\n",
       "</style>\n",
       "<table border=\"1\" class=\"dataframe\">\n",
       "  <thead>\n",
       "    <tr style=\"text-align: right;\">\n",
       "      <th></th>\n",
       "      <th>id_dispositivo</th>\n",
       "      <th>microsegundos</th>\n",
       "      <th>fecha</th>\n",
       "      <th>timestamp</th>\n",
       "      <th>celcius</th>\n",
       "      <th>fahrenheit</th>\n",
       "      <th>humedad</th>\n",
       "      <th>ind_cal_cel</th>\n",
       "      <th>ind_cal_far</th>\n",
       "    </tr>\n",
       "  </thead>\n",
       "  <tbody>\n",
       "    <tr>\n",
       "      <th>0</th>\n",
       "      <td>dht11-01</td>\n",
       "      <td>77515677</td>\n",
       "      <td>2023-8-15T18:37:10-0500</td>\n",
       "      <td>1692124630</td>\n",
       "      <td>26.10</td>\n",
       "      <td>78.98</td>\n",
       "      <td>46.00</td>\n",
       "      <td>25.97</td>\n",
       "      <td>78.74</td>\n",
       "    </tr>\n",
       "    <tr>\n",
       "      <th>1</th>\n",
       "      <td>dht11-01</td>\n",
       "      <td>83562512</td>\n",
       "      <td>2023-8-15T18:37:16-0500</td>\n",
       "      <td>1692124636</td>\n",
       "      <td>26.10</td>\n",
       "      <td>78.98</td>\n",
       "      <td>46.00</td>\n",
       "      <td>25.97</td>\n",
       "      <td>78.74</td>\n",
       "    </tr>\n",
       "    <tr>\n",
       "      <th>2</th>\n",
       "      <td>dht11-01</td>\n",
       "      <td>89609347</td>\n",
       "      <td>2023-8-15T18:37:22-0500</td>\n",
       "      <td>1692124642</td>\n",
       "      <td></td>\n",
       "      <td></td>\n",
       "      <td>46.00</td>\n",
       "      <td>25.97</td>\n",
       "      <td>78.74</td>\n",
       "    </tr>\n",
       "    <tr>\n",
       "      <th>3</th>\n",
       "      <td>dht11-01</td>\n",
       "      <td>95656202</td>\n",
       "      <td>2023-8-15T18:37:28-0500</td>\n",
       "      <td>1692124648</td>\n",
       "      <td>26.10</td>\n",
       "      <td>78.98</td>\n",
       "      <td>46.00</td>\n",
       "      <td>25.97</td>\n",
       "      <td>78.74</td>\n",
       "    </tr>\n",
       "    <tr>\n",
       "      <th>4</th>\n",
       "      <td>dht11-01</td>\n",
       "      <td>101703012</td>\n",
       "      <td>2023-8-15T18:37:34-0500</td>\n",
       "      <td>1692124654</td>\n",
       "      <td>26.10</td>\n",
       "      <td>78.98</td>\n",
       "      <td>46.00</td>\n",
       "      <td>25.97</td>\n",
       "      <td>78.74</td>\n",
       "    </tr>\n",
       "  </tbody>\n",
       "</table>\n",
       "</div>"
      ],
      "text/plain": [
       "  id_dispositivo microsegundos                    fecha   timestamp celcius  \\\n",
       "0       dht11-01      77515677  2023-8-15T18:37:10-0500  1692124630   26.10   \n",
       "1       dht11-01      83562512  2023-8-15T18:37:16-0500  1692124636   26.10   \n",
       "2       dht11-01      89609347  2023-8-15T18:37:22-0500  1692124642           \n",
       "3       dht11-01      95656202  2023-8-15T18:37:28-0500  1692124648   26.10   \n",
       "4       dht11-01     101703012  2023-8-15T18:37:34-0500  1692124654   26.10   \n",
       "\n",
       "  fahrenheit humedad ind_cal_cel ind_cal_far  \n",
       "0      78.98   46.00       25.97       78.74  \n",
       "1      78.98   46.00       25.97       78.74  \n",
       "2              46.00       25.97       78.74  \n",
       "3      78.98   46.00       25.97       78.74  \n",
       "4      78.98   46.00       25.97       78.74  "
      ]
     },
     "execution_count": 19,
     "metadata": {},
     "output_type": "execute_result"
    }
   ],
   "source": [
    "df[\"json_data\"]=df[\"data\"].apply(json.loads)\n",
    "temperature_data=pd.json_normalize(df[\"json_data\"])\n",
    "temperature_data.head()"
   ]
  },
  {
   "cell_type": "code",
   "execution_count": 20,
   "metadata": {},
   "outputs": [
    {
     "data": {
      "text/plain": [
       "id_dispositivo    0\n",
       "microsegundos     0\n",
       "fecha             0\n",
       "timestamp         0\n",
       "celcius           1\n",
       "fahrenheit        1\n",
       "humedad           0\n",
       "ind_cal_cel       1\n",
       "ind_cal_far       0\n",
       "dtype: int64"
      ]
     },
     "execution_count": 20,
     "metadata": {},
     "output_type": "execute_result"
    }
   ],
   "source": [
    "temperature_data.replace('', np.nan,inplace=True)\n",
    "temperature_data.isnull().sum()"
   ]
  },
  {
   "cell_type": "code",
   "execution_count": 70,
   "metadata": {},
   "outputs": [
    {
     "data": {
      "text/plain": [
       "id_dispositivo     object\n",
       "microsegundos      object\n",
       "fecha              object\n",
       "timestamp          object\n",
       "celcius            object\n",
       "fahrenheit        float64\n",
       "humedad            object\n",
       "ind_cal_cel       float64\n",
       "ind_cal_far        object\n",
       "dtype: object"
      ]
     },
     "execution_count": 70,
     "metadata": {},
     "output_type": "execute_result"
    }
   ],
   "source": [
    "temperature_data['fahrenheit'] = temperature_data['fahrenheit'].apply(lambda x: float(x) if x != '' else None)\n",
    "temperature_data['ind_cal_cel'] = temperature_data['ind_cal_cel'].apply(lambda x: float(x) if x != '' else None)\n",
    "#temperature_data['fecha']=pd.to_datetime(temperature_data['fecha'],format='%Y-%m-%d %H:%M:%S')\n",
    "tempeture_data = temperature_data.astype({'id_dispositivo': 'str', 'microsegundos': 'int64',\n",
    "                    'timestamp': 'int64','humedad':'float64','ind_cal_far':'float64'})\n",
    "temperature_data.dtypes"
   ]
  },
  {
   "cell_type": "code",
   "execution_count": 25,
   "metadata": {},
   "outputs": [
    {
     "data": {
      "text/html": [
       "<div>\n",
       "<style scoped>\n",
       "    .dataframe tbody tr th:only-of-type {\n",
       "        vertical-align: middle;\n",
       "    }\n",
       "\n",
       "    .dataframe tbody tr th {\n",
       "        vertical-align: top;\n",
       "    }\n",
       "\n",
       "    .dataframe thead th {\n",
       "        text-align: right;\n",
       "    }\n",
       "</style>\n",
       "<table border=\"1\" class=\"dataframe\">\n",
       "  <thead>\n",
       "    <tr style=\"text-align: right;\">\n",
       "      <th></th>\n",
       "      <th>id_dispositivo</th>\n",
       "      <th>microsegundos</th>\n",
       "      <th>fecha</th>\n",
       "      <th>timestamp</th>\n",
       "      <th>celcius</th>\n",
       "      <th>fahrenheit</th>\n",
       "      <th>humedad</th>\n",
       "      <th>ind_cal_cel</th>\n",
       "      <th>ind_cal_far</th>\n",
       "    </tr>\n",
       "  </thead>\n",
       "  <tbody>\n",
       "    <tr>\n",
       "      <th>0</th>\n",
       "      <td>dht11-01</td>\n",
       "      <td>77515677</td>\n",
       "      <td>2023-8-15T18:37:10-0500</td>\n",
       "      <td>1692124630</td>\n",
       "      <td>26.10</td>\n",
       "      <td>78.98</td>\n",
       "      <td>46.0</td>\n",
       "      <td>25.97</td>\n",
       "      <td>78.74</td>\n",
       "    </tr>\n",
       "    <tr>\n",
       "      <th>1</th>\n",
       "      <td>dht11-01</td>\n",
       "      <td>83562512</td>\n",
       "      <td>2023-8-15T18:37:16-0500</td>\n",
       "      <td>1692124636</td>\n",
       "      <td>26.10</td>\n",
       "      <td>78.98</td>\n",
       "      <td>46.0</td>\n",
       "      <td>25.97</td>\n",
       "      <td>78.74</td>\n",
       "    </tr>\n",
       "    <tr>\n",
       "      <th>2</th>\n",
       "      <td>dht11-01</td>\n",
       "      <td>89609347</td>\n",
       "      <td>2023-8-15T18:37:22-0500</td>\n",
       "      <td>1692124642</td>\n",
       "      <td>NaN</td>\n",
       "      <td>NaN</td>\n",
       "      <td>46.0</td>\n",
       "      <td>25.97</td>\n",
       "      <td>78.74</td>\n",
       "    </tr>\n",
       "  </tbody>\n",
       "</table>\n",
       "</div>"
      ],
      "text/plain": [
       "  id_dispositivo  microsegundos                    fecha   timestamp celcius  \\\n",
       "0       dht11-01       77515677  2023-8-15T18:37:10-0500  1692124630   26.10   \n",
       "1       dht11-01       83562512  2023-8-15T18:37:16-0500  1692124636   26.10   \n",
       "2       dht11-01       89609347  2023-8-15T18:37:22-0500  1692124642     NaN   \n",
       "\n",
       "   fahrenheit  humedad  ind_cal_cel  ind_cal_far  \n",
       "0       78.98     46.0        25.97        78.74  \n",
       "1       78.98     46.0        25.97        78.74  \n",
       "2         NaN     46.0        25.97        78.74  "
      ]
     },
     "execution_count": 25,
     "metadata": {},
     "output_type": "execute_result"
    }
   ],
   "source": [
    "tempeture_data.head(3)"
   ]
  },
  {
   "cell_type": "code",
   "execution_count": 267,
   "metadata": {},
   "outputs": [],
   "source": [
    "#!pip install -U scikit-learn"
   ]
  },
  {
   "cell_type": "code",
   "execution_count": 26,
   "metadata": {},
   "outputs": [],
   "source": [
    "from sklearn.impute import SimpleImputer,KNNImputer"
   ]
  },
  {
   "cell_type": "code",
   "execution_count": 27,
   "metadata": {},
   "outputs": [],
   "source": [
    "simple=SimpleImputer(strategy='mean')\n",
    "simple.fit(tempeture_data[[\"celcius\"]])\n",
    "tempeture_data[\"celcius\"]=simple.transform(tempeture_data[[\"celcius\"]])\n",
    "#mean_strategy\n"
   ]
  },
  {
   "cell_type": "code",
   "execution_count": 28,
   "metadata": {},
   "outputs": [],
   "source": [
    "knn=KNNImputer(n_neighbors=1)\n",
    "imp_knn=knn.fit_transform(tempeture_data[[\"fahrenheit\"]])\n",
    "tempeture_data[\"fahrenheit\"]=imp_knn"
   ]
  },
  {
   "cell_type": "code",
   "execution_count": 29,
   "metadata": {},
   "outputs": [
    {
     "data": {
      "text/plain": [
       "array([25.97, 78.74])"
      ]
     },
     "execution_count": 29,
     "metadata": {},
     "output_type": "execute_result"
    }
   ],
   "source": [
    "knn=KNNImputer(n_neighbors=2)\n",
    "imp_ind=knn.fit_transform(tempeture_data[[\"ind_cal_cel\",\"ind_cal_far\"]])\n",
    "imp_ind[0]\n",
    "#tempeture_data[\"fahrenheit\"]=imp_knn"
   ]
  },
  {
   "cell_type": "code",
   "execution_count": 34,
   "metadata": {},
   "outputs": [
    {
     "data": {
      "text/html": [
       "<div>\n",
       "<style scoped>\n",
       "    .dataframe tbody tr th:only-of-type {\n",
       "        vertical-align: middle;\n",
       "    }\n",
       "\n",
       "    .dataframe tbody tr th {\n",
       "        vertical-align: top;\n",
       "    }\n",
       "\n",
       "    .dataframe thead th {\n",
       "        text-align: right;\n",
       "    }\n",
       "</style>\n",
       "<table border=\"1\" class=\"dataframe\">\n",
       "  <thead>\n",
       "    <tr style=\"text-align: right;\">\n",
       "      <th></th>\n",
       "      <th>id_dispositivo</th>\n",
       "      <th>microsegundos</th>\n",
       "      <th>fecha</th>\n",
       "      <th>timestamp</th>\n",
       "      <th>celcius</th>\n",
       "      <th>fahrenheit</th>\n",
       "      <th>humedad</th>\n",
       "      <th>ind_cal_cel</th>\n",
       "      <th>ind_cal_far</th>\n",
       "    </tr>\n",
       "  </thead>\n",
       "  <tbody>\n",
       "    <tr>\n",
       "      <th>0</th>\n",
       "      <td>dht11-01</td>\n",
       "      <td>77515677</td>\n",
       "      <td>2023-8-15T18:37:10-0500</td>\n",
       "      <td>1692124630</td>\n",
       "      <td>26.1</td>\n",
       "      <td>78.98</td>\n",
       "      <td>46.0</td>\n",
       "      <td>25.97</td>\n",
       "      <td>78.74</td>\n",
       "    </tr>\n",
       "    <tr>\n",
       "      <th>1</th>\n",
       "      <td>dht11-01</td>\n",
       "      <td>83562512</td>\n",
       "      <td>2023-8-15T18:37:16-0500</td>\n",
       "      <td>1692124636</td>\n",
       "      <td>26.1</td>\n",
       "      <td>78.98</td>\n",
       "      <td>46.0</td>\n",
       "      <td>25.97</td>\n",
       "      <td>78.74</td>\n",
       "    </tr>\n",
       "    <tr>\n",
       "      <th>2</th>\n",
       "      <td>dht11-01</td>\n",
       "      <td>89609347</td>\n",
       "      <td>2023-8-15T18:37:22-0500</td>\n",
       "      <td>1692124642</td>\n",
       "      <td>27.1</td>\n",
       "      <td>80.78</td>\n",
       "      <td>46.0</td>\n",
       "      <td>25.97</td>\n",
       "      <td>78.74</td>\n",
       "    </tr>\n",
       "    <tr>\n",
       "      <th>3</th>\n",
       "      <td>dht11-01</td>\n",
       "      <td>95656202</td>\n",
       "      <td>2023-8-15T18:37:28-0500</td>\n",
       "      <td>1692124648</td>\n",
       "      <td>26.1</td>\n",
       "      <td>78.98</td>\n",
       "      <td>46.0</td>\n",
       "      <td>25.97</td>\n",
       "      <td>78.74</td>\n",
       "    </tr>\n",
       "    <tr>\n",
       "      <th>4</th>\n",
       "      <td>dht11-01</td>\n",
       "      <td>101703012</td>\n",
       "      <td>2023-8-15T18:37:34-0500</td>\n",
       "      <td>1692124654</td>\n",
       "      <td>26.1</td>\n",
       "      <td>78.98</td>\n",
       "      <td>46.0</td>\n",
       "      <td>25.97</td>\n",
       "      <td>78.74</td>\n",
       "    </tr>\n",
       "    <tr>\n",
       "      <th>5</th>\n",
       "      <td>dht11-01</td>\n",
       "      <td>107749931</td>\n",
       "      <td>2023-8-15T18:37:40-0500</td>\n",
       "      <td>1692124660</td>\n",
       "      <td>26.2</td>\n",
       "      <td>79.16</td>\n",
       "      <td>45.0</td>\n",
       "      <td>26.05</td>\n",
       "      <td>78.89</td>\n",
       "    </tr>\n",
       "    <tr>\n",
       "      <th>6</th>\n",
       "      <td>dht11-01</td>\n",
       "      <td>113797208</td>\n",
       "      <td>2023-8-15T18:37:46-0500</td>\n",
       "      <td>1692124666</td>\n",
       "      <td>26.2</td>\n",
       "      <td>79.16</td>\n",
       "      <td>45.0</td>\n",
       "      <td>26.05</td>\n",
       "      <td>78.89</td>\n",
       "    </tr>\n",
       "    <tr>\n",
       "      <th>7</th>\n",
       "      <td>dht11-01</td>\n",
       "      <td>614397695</td>\n",
       "      <td>2023-8-15T21:35:37-0500</td>\n",
       "      <td>1692135337</td>\n",
       "      <td>30.2</td>\n",
       "      <td>86.36</td>\n",
       "      <td>95.0</td>\n",
       "      <td>43.32</td>\n",
       "      <td>109.98</td>\n",
       "    </tr>\n",
       "    <tr>\n",
       "      <th>8</th>\n",
       "      <td>dht11-01</td>\n",
       "      <td>5008633</td>\n",
       "      <td>1970-1-1T8:0:4-0500</td>\n",
       "      <td>28804</td>\n",
       "      <td>24.6</td>\n",
       "      <td>76.28</td>\n",
       "      <td>77.0</td>\n",
       "      <td>25.13</td>\n",
       "      <td>77.23</td>\n",
       "    </tr>\n",
       "    <tr>\n",
       "      <th>9</th>\n",
       "      <td>dht11-01</td>\n",
       "      <td>11054378</td>\n",
       "      <td>2023-8-20T23:7:50-0500</td>\n",
       "      <td>1692572870</td>\n",
       "      <td>25.7</td>\n",
       "      <td>78.26</td>\n",
       "      <td>59.0</td>\n",
       "      <td>25.87</td>\n",
       "      <td>78.56</td>\n",
       "    </tr>\n",
       "    <tr>\n",
       "      <th>10</th>\n",
       "      <td>dht11-01</td>\n",
       "      <td>17101267</td>\n",
       "      <td>2023-8-20T23:7:56-0500</td>\n",
       "      <td>1692572876</td>\n",
       "      <td>25.7</td>\n",
       "      <td>78.26</td>\n",
       "      <td>69.0</td>\n",
       "      <td>26.85</td>\n",
       "      <td>80.33</td>\n",
       "    </tr>\n",
       "    <tr>\n",
       "      <th>11</th>\n",
       "      <td>dht11-01</td>\n",
       "      <td>29195244</td>\n",
       "      <td>2023-8-20T23:8:9-0500</td>\n",
       "      <td>1692572889</td>\n",
       "      <td>30.2</td>\n",
       "      <td>86.36</td>\n",
       "      <td>95.0</td>\n",
       "      <td>43.32</td>\n",
       "      <td>109.98</td>\n",
       "    </tr>\n",
       "    <tr>\n",
       "      <th>12</th>\n",
       "      <td>dht11-01</td>\n",
       "      <td>35242220</td>\n",
       "      <td>2023-8-20T23:8:15-0500</td>\n",
       "      <td>1692572895</td>\n",
       "      <td>31.3</td>\n",
       "      <td>88.34</td>\n",
       "      <td>95.0</td>\n",
       "      <td>48.15</td>\n",
       "      <td>118.67</td>\n",
       "    </tr>\n",
       "    <tr>\n",
       "      <th>13</th>\n",
       "      <td>dht11-01</td>\n",
       "      <td>41289486</td>\n",
       "      <td>2023-8-20T23:8:21-0500</td>\n",
       "      <td>1692572901</td>\n",
       "      <td>31.0</td>\n",
       "      <td>87.80</td>\n",
       "      <td>95.0</td>\n",
       "      <td>46.78</td>\n",
       "      <td>116.20</td>\n",
       "    </tr>\n",
       "    <tr>\n",
       "      <th>14</th>\n",
       "      <td>dht11-01</td>\n",
       "      <td>67550997</td>\n",
       "      <td>2023-8-20T23:8:47-0500</td>\n",
       "      <td>1692572927</td>\n",
       "      <td>27.5</td>\n",
       "      <td>81.50</td>\n",
       "      <td>95.0</td>\n",
       "      <td>NaN</td>\n",
       "      <td>92.36</td>\n",
       "    </tr>\n",
       "    <tr>\n",
       "      <th>15</th>\n",
       "      <td>dht11-01</td>\n",
       "      <td>85692269</td>\n",
       "      <td>2023-8-20T23:9:5-0500</td>\n",
       "      <td>1692572945</td>\n",
       "      <td>26.6</td>\n",
       "      <td>79.88</td>\n",
       "      <td>95.0</td>\n",
       "      <td>30.01</td>\n",
       "      <td>86.03</td>\n",
       "    </tr>\n",
       "    <tr>\n",
       "      <th>16</th>\n",
       "      <td>dht11-01</td>\n",
       "      <td>91739101</td>\n",
       "      <td>2023-8-20T23:9:11-0500</td>\n",
       "      <td>1692572951</td>\n",
       "      <td>26.3</td>\n",
       "      <td>79.34</td>\n",
       "      <td>95.0</td>\n",
       "      <td>29.11</td>\n",
       "      <td>84.39</td>\n",
       "    </tr>\n",
       "    <tr>\n",
       "      <th>17</th>\n",
       "      <td>dht11-01</td>\n",
       "      <td>97786060</td>\n",
       "      <td>2023-8-20T23:9:17-0500</td>\n",
       "      <td>1692572957</td>\n",
       "      <td>26.1</td>\n",
       "      <td>78.98</td>\n",
       "      <td>95.0</td>\n",
       "      <td>28.52</td>\n",
       "      <td>83.33</td>\n",
       "    </tr>\n",
       "    <tr>\n",
       "      <th>18</th>\n",
       "      <td>dht11-01</td>\n",
       "      <td>103832846</td>\n",
       "      <td>2023-8-20T23:9:23-0500</td>\n",
       "      <td>1692572963</td>\n",
       "      <td>25.8</td>\n",
       "      <td>78.44</td>\n",
       "      <td>95.0</td>\n",
       "      <td>27.66</td>\n",
       "      <td>81.78</td>\n",
       "    </tr>\n",
       "  </tbody>\n",
       "</table>\n",
       "</div>"
      ],
      "text/plain": [
       "   id_dispositivo  microsegundos                    fecha   timestamp  \\\n",
       "0        dht11-01       77515677  2023-8-15T18:37:10-0500  1692124630   \n",
       "1        dht11-01       83562512  2023-8-15T18:37:16-0500  1692124636   \n",
       "2        dht11-01       89609347  2023-8-15T18:37:22-0500  1692124642   \n",
       "3        dht11-01       95656202  2023-8-15T18:37:28-0500  1692124648   \n",
       "4        dht11-01      101703012  2023-8-15T18:37:34-0500  1692124654   \n",
       "5        dht11-01      107749931  2023-8-15T18:37:40-0500  1692124660   \n",
       "6        dht11-01      113797208  2023-8-15T18:37:46-0500  1692124666   \n",
       "7        dht11-01      614397695  2023-8-15T21:35:37-0500  1692135337   \n",
       "8        dht11-01        5008633      1970-1-1T8:0:4-0500       28804   \n",
       "9        dht11-01       11054378   2023-8-20T23:7:50-0500  1692572870   \n",
       "10       dht11-01       17101267   2023-8-20T23:7:56-0500  1692572876   \n",
       "11       dht11-01       29195244    2023-8-20T23:8:9-0500  1692572889   \n",
       "12       dht11-01       35242220   2023-8-20T23:8:15-0500  1692572895   \n",
       "13       dht11-01       41289486   2023-8-20T23:8:21-0500  1692572901   \n",
       "14       dht11-01       67550997   2023-8-20T23:8:47-0500  1692572927   \n",
       "15       dht11-01       85692269    2023-8-20T23:9:5-0500  1692572945   \n",
       "16       dht11-01       91739101   2023-8-20T23:9:11-0500  1692572951   \n",
       "17       dht11-01       97786060   2023-8-20T23:9:17-0500  1692572957   \n",
       "18       dht11-01      103832846   2023-8-20T23:9:23-0500  1692572963   \n",
       "\n",
       "    celcius  fahrenheit  humedad  ind_cal_cel  ind_cal_far  \n",
       "0      26.1       78.98     46.0        25.97        78.74  \n",
       "1      26.1       78.98     46.0        25.97        78.74  \n",
       "2      27.1       80.78     46.0        25.97        78.74  \n",
       "3      26.1       78.98     46.0        25.97        78.74  \n",
       "4      26.1       78.98     46.0        25.97        78.74  \n",
       "5      26.2       79.16     45.0        26.05        78.89  \n",
       "6      26.2       79.16     45.0        26.05        78.89  \n",
       "7      30.2       86.36     95.0        43.32       109.98  \n",
       "8      24.6       76.28     77.0        25.13        77.23  \n",
       "9      25.7       78.26     59.0        25.87        78.56  \n",
       "10     25.7       78.26     69.0        26.85        80.33  \n",
       "11     30.2       86.36     95.0        43.32       109.98  \n",
       "12     31.3       88.34     95.0        48.15       118.67  \n",
       "13     31.0       87.80     95.0        46.78       116.20  \n",
       "14     27.5       81.50     95.0          NaN        92.36  \n",
       "15     26.6       79.88     95.0        30.01        86.03  \n",
       "16     26.3       79.34     95.0        29.11        84.39  \n",
       "17     26.1       78.98     95.0        28.52        83.33  \n",
       "18     25.8       78.44     95.0        27.66        81.78  "
      ]
     },
     "execution_count": 34,
     "metadata": {},
     "output_type": "execute_result"
    }
   ],
   "source": [
    "tempeture_data.head(50)"
   ]
  },
  {
   "cell_type": "code",
   "execution_count": 31,
   "metadata": {},
   "outputs": [
    {
     "data": {
      "text/plain": [
       "24.299999999999997"
      ]
     },
     "execution_count": 31,
     "metadata": {},
     "output_type": "execute_result"
    }
   ],
   "source": [
    "q_1=np.quantile(tempeture_data[\"celcius\"],0.25)\n",
    "q_3=np.quantile(tempeture_data[\"celcius\"],0.75)\n",
    "inf=q_1-1.5*(q_3-q_1)\n",
    "inf"
   ]
  },
  {
   "cell_type": "code",
   "execution_count": 33,
   "metadata": {},
   "outputs": [
    {
     "data": {
      "text/plain": [
       "{'whiskers': [<matplotlib.lines.Line2D at 0x12072f100>,\n",
       "  <matplotlib.lines.Line2D at 0x12072f3a0>],\n",
       " 'caps': [<matplotlib.lines.Line2D at 0x12072f640>,\n",
       "  <matplotlib.lines.Line2D at 0x12072f8e0>],\n",
       " 'boxes': [<matplotlib.lines.Line2D at 0x12072dd20>],\n",
       " 'medians': [<matplotlib.lines.Line2D at 0x12072fb80>],\n",
       " 'fliers': [<matplotlib.lines.Line2D at 0x12072fe20>],\n",
       " 'means': []}"
      ]
     },
     "execution_count": 33,
     "metadata": {},
     "output_type": "execute_result"
    },
    {
     "data": {
      "image/png": "[encoded data removed]",
      "text/plain": [
       "<Figure size 800x600 with 1 Axes>"
      ]
     },
     "metadata": {},
     "output_type": "display_data"
    }
   ],
   "source": [
    "import matplotlib.pyplot  as plt\n",
    "fig=plt.figure(figsize=(8,6))\n",
    "plt.boxplot(tempeture_data[\"celcius\"])"
   ]
  },
  {
   "cell_type": "code",
   "execution_count": 73,
   "metadata": {},
   "outputs": [],
   "source": [
    "from sklearn.ensemble import IsolationForest\n",
    "#from sklearn.model_selection import train_test_split\n"
   ]
  },
  {
   "cell_type": "code",
   "execution_count": 60,
   "metadata": {},
   "outputs": [
    {
     "data": {
      "text/html": [
       "<div>\n",
       "<style scoped>\n",
       "    .dataframe tbody tr th:only-of-type {\n",
       "        vertical-align: middle;\n",
       "    }\n",
       "\n",
       "    .dataframe tbody tr th {\n",
       "        vertical-align: top;\n",
       "    }\n",
       "\n",
       "    .dataframe thead th {\n",
       "        text-align: right;\n",
       "    }\n",
       "</style>\n",
       "<table border=\"1\" class=\"dataframe\">\n",
       "  <thead>\n",
       "    <tr style=\"text-align: right;\">\n",
       "      <th></th>\n",
       "      <th>celcius</th>\n",
       "      <th>humedad</th>\n",
       "    </tr>\n",
       "  </thead>\n",
       "  <tbody>\n",
       "    <tr>\n",
       "      <th>0</th>\n",
       "      <td>30.2</td>\n",
       "      <td>89.0</td>\n",
       "    </tr>\n",
       "    <tr>\n",
       "      <th>1</th>\n",
       "      <td>26.1</td>\n",
       "      <td>46.0</td>\n",
       "    </tr>\n",
       "  </tbody>\n",
       "</table>\n",
       "</div>"
      ],
      "text/plain": [
       "   celcius  humedad\n",
       "0     30.2     89.0\n",
       "1     26.1     46.0"
      ]
     },
     "execution_count": 60,
     "metadata": {},
     "output_type": "execute_result"
    }
   ],
   "source": [
    "temp=tempeture_data.loc[:,[\"celcius\",\"humedad\"]]\n",
    "temp_test=pd.DataFrame({\"celcius\":[30.2,26.1],\"humedad\":[89,46.0]})\n",
    "temp_test"
   ]
  },
  {
   "cell_type": "code",
   "execution_count": 74,
   "metadata": {},
   "outputs": [
    {
     "data": {
      "text/plain": [
       "array([-1,  1])"
      ]
     },
     "execution_count": 74,
     "metadata": {},
     "output_type": "execute_result"
    }
   ],
   "source": [
    "isolation=IsolationForest(random_state=0).fit(temp)\n",
    "isolation.predict(temp_test)\n",
    "#isolation.decision_function(temp_test)\n"
   ]
  },
  {
   "cell_type": "code",
   "execution_count": null,
   "metadata": {},
   "outputs": [],
   "source": [
    "#X_train,X_test,y_train,y_test\n",
    "temp_test,temp_train=train_test_split(tempeture_data[\"celcius\"],test_size=0.7)\n",
    "clf=IsolationForest().fit([temp_train])\n",
    "clf.predict([temp_test])"
   ]
  },
  {
   "cell_type": "code",
   "execution_count": null,
   "metadata": {},
   "outputs": [],
   "source": []
  },
  {
   "cell_type": "code",
   "execution_count": 72,
   "metadata": {},
   "outputs": [
    {
     "data": {
      "text/html": [
       "<div>\n",
       "<style scoped>\n",
       "    .dataframe tbody tr th:only-of-type {\n",
       "        vertical-align: middle;\n",
       "    }\n",
       "\n",
       "    .dataframe tbody tr th {\n",
       "        vertical-align: top;\n",
       "    }\n",
       "\n",
       "    .dataframe thead th {\n",
       "        text-align: right;\n",
       "    }\n",
       "</style>\n",
       "<table border=\"1\" class=\"dataframe\">\n",
       "  <thead>\n",
       "    <tr style=\"text-align: right;\">\n",
       "      <th></th>\n",
       "      <th>A</th>\n",
       "      <th>calumnos</th>\n",
       "    </tr>\n",
       "  </thead>\n",
       "  <tbody>\n",
       "    <tr>\n",
       "      <th>0</th>\n",
       "      <td>maria</td>\n",
       "      <td>10</td>\n",
       "    </tr>\n",
       "    <tr>\n",
       "      <th>0</th>\n",
       "      <td>juan</td>\n",
       "      <td>10</td>\n",
       "    </tr>\n",
       "    <tr>\n",
       "      <th>1</th>\n",
       "      <td>jorge</td>\n",
       "      <td>3</td>\n",
       "    </tr>\n",
       "  </tbody>\n",
       "</table>\n",
       "</div>"
      ],
      "text/plain": [
       "       A  calumnos\n",
       "0  maria        10\n",
       "0   juan        10\n",
       "1  jorge         3"
      ]
     },
     "execution_count": 72,
     "metadata": {},
     "output_type": "execute_result"
    }
   ],
   "source": [
    "pr=pd.DataFrame({\"A\":[[\"maria\",\"juan\"],\"jorge\"],\"calumnos\":[10,3]})\n",
    "pr.explode(list('A'))\n",
    "#df.groupby().agg('mean')"
   ]
  }
 ],
 "metadata": {
  "kernelspec": {
   "display_name": "Python 3 (ipykernel)",
   "language": "python",
   "name": "python3"
  },
  "language_info": {
   "codemirror_mode": {
    "name": "ipython",
    "version": 3
   },
   "file_extension": ".py",
   "mimetype": "text/x-python",
   "name": "python",
   "nbconvert_exporter": "python",
   "pygments_lexer": "ipython3",
   "version": "3.10.12"
  }
 },
 "nbformat": 4,
 "nbformat_minor": 4
}
